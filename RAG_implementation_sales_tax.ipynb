{
  "nbformat": 4,
  "nbformat_minor": 0,
  "metadata": {
    "colab": {
      "provenance": [],
      "gpuType": "T4",
      "include_colab_link": true
    },
    "kernelspec": {
      "name": "python3",
      "display_name": "Python 3"
    },
    "language_info": {
      "name": "python"
    },
    "accelerator": "GPU"
  },
  "cells": [
    {
      "cell_type": "markdown",
      "metadata": {
        "id": "view-in-github",
        "colab_type": "text"
      },
      "source": [
        "<a href=\"https://colab.research.google.com/github/AreebAhmad-02/Rag-using-Langchain-with-Cohere-reranker-and-Zypher7B/blob/main/RAG_implementation_sales_tax.ipynb\" target=\"_parent\"><img src=\"https://colab.research.google.com/assets/colab-badge.svg\" alt=\"Open In Colab\"/></a>"
      ]
    },
    {
      "cell_type": "markdown",
      "source": [
        "# RAG implementation for Tech-news dataset"
      ],
      "metadata": {
        "id": "EPseCCAA5ujV"
      }
    },
    {
      "cell_type": "markdown",
      "source": [
        "### Installation"
      ],
      "metadata": {
        "id": "AeuZpEBS55D8"
      }
    },
    {
      "cell_type": "code",
      "execution_count": 1,
      "metadata": {
        "id": "hPPHiHKvVbMA",
        "colab": {
          "base_uri": "https://localhost:8080/"
        },
        "outputId": "f5a11b74-f217-4883-dda9-437f276cc451"
      },
      "outputs": [
        {
          "output_type": "stream",
          "name": "stdout",
          "text": [
            "\u001b[2K     \u001b[90m━━━━━━━━━━━━━━━━━━━━━━━━━━━━━━━━━━━━━━━━\u001b[0m \u001b[32m974.6/974.6 kB\u001b[0m \u001b[31m5.7 MB/s\u001b[0m eta \u001b[36m0:00:00\u001b[0m\n",
            "\u001b[2K     \u001b[90m━━━━━━━━━━━━━━━━━━━━━━━━━━━━━━━━━━━━━━━━\u001b[0m \u001b[32m227.1/227.1 kB\u001b[0m \u001b[31m6.6 MB/s\u001b[0m eta \u001b[36m0:00:00\u001b[0m\n",
            "\u001b[2K     \u001b[90m━━━━━━━━━━━━━━━━━━━━━━━━━━━━━━━━━━━━━━━━\u001b[0m \u001b[32m173.8/173.8 kB\u001b[0m \u001b[31m6.7 MB/s\u001b[0m eta \u001b[36m0:00:00\u001b[0m\n",
            "\u001b[2K     \u001b[90m━━━━━━━━━━━━━━━━━━━━━━━━━━━━━━━━━━━━━━━━\u001b[0m \u001b[32m321.8/321.8 kB\u001b[0m \u001b[31m7.8 MB/s\u001b[0m eta \u001b[36m0:00:00\u001b[0m\n",
            "\u001b[2K     \u001b[90m━━━━━━━━━━━━━━━━━━━━━━━━━━━━━━━━━━━━━━━━\u001b[0m \u001b[32m127.1/127.1 kB\u001b[0m \u001b[31m10.6 MB/s\u001b[0m eta \u001b[36m0:00:00\u001b[0m\n",
            "\u001b[2K     \u001b[90m━━━━━━━━━━━━━━━━━━━━━━━━━━━━━━━━━━━━━━━━\u001b[0m \u001b[32m139.2/139.2 kB\u001b[0m \u001b[31m11.3 MB/s\u001b[0m eta \u001b[36m0:00:00\u001b[0m\n",
            "\u001b[2K     \u001b[90m━━━━━━━━━━━━━━━━━━━━━━━━━━━━━━━━━━━━━━━━\u001b[0m \u001b[32m3.1/3.1 MB\u001b[0m \u001b[31m13.3 MB/s\u001b[0m eta \u001b[36m0:00:00\u001b[0m\n",
            "\u001b[2K     \u001b[90m━━━━━━━━━━━━━━━━━━━━━━━━━━━━━━━━━━━━━━━━\u001b[0m \u001b[32m75.6/75.6 kB\u001b[0m \u001b[31m6.9 MB/s\u001b[0m eta \u001b[36m0:00:00\u001b[0m\n",
            "\u001b[2K     \u001b[90m━━━━━━━━━━━━━━━━━━━━━━━━━━━━━━━━━━━━━━━━\u001b[0m \u001b[32m12.3/12.3 MB\u001b[0m \u001b[31m28.8 MB/s\u001b[0m eta \u001b[36m0:00:00\u001b[0m\n",
            "\u001b[2K     \u001b[90m━━━━━━━━━━━━━━━━━━━━━━━━━━━━━━━━━━━━━━━━\u001b[0m \u001b[32m82.2/82.2 kB\u001b[0m \u001b[31m7.0 MB/s\u001b[0m eta \u001b[36m0:00:00\u001b[0m\n",
            "\u001b[2K     \u001b[90m━━━━━━━━━━━━━━━━━━━━━━━━━━━━━━━━━━━━━━━━\u001b[0m \u001b[32m77.9/77.9 kB\u001b[0m \u001b[31m6.8 MB/s\u001b[0m eta \u001b[36m0:00:00\u001b[0m\n",
            "\u001b[2K     \u001b[90m━━━━━━━━━━━━━━━━━━━━━━━━━━━━━━━━━━━━━━━━\u001b[0m \u001b[32m58.3/58.3 kB\u001b[0m \u001b[31m5.7 MB/s\u001b[0m eta \u001b[36m0:00:00\u001b[0m\n",
            "\u001b[2K     \u001b[90m━━━━━━━━━━━━━━━━━━━━━━━━━━━━━━━━━━━━━━━━\u001b[0m \u001b[32m145.0/145.0 kB\u001b[0m \u001b[31m11.1 MB/s\u001b[0m eta \u001b[36m0:00:00\u001b[0m\n",
            "\u001b[2K     \u001b[90m━━━━━━━━━━━━━━━━━━━━━━━━━━━━━━━━━━━━━━━━\u001b[0m \u001b[32m21.3/21.3 MB\u001b[0m \u001b[31m34.7 MB/s\u001b[0m eta \u001b[36m0:00:00\u001b[0m\n",
            "\u001b[?25h"
          ]
        }
      ],
      "source": [
        "!pip install -q langchain sentence-transformers cohere"
      ]
    },
    {
      "cell_type": "code",
      "source": [
        "!pip install faiss-cpu"
      ],
      "metadata": {
        "id": "FpyrVBhDwlZk",
        "colab": {
          "base_uri": "https://localhost:8080/"
        },
        "outputId": "8fb8386e-e12e-49e2-9ac0-42ad2b278b0c"
      },
      "execution_count": 2,
      "outputs": [
        {
          "output_type": "stream",
          "name": "stdout",
          "text": [
            "Collecting faiss-cpu\n",
            "  Downloading faiss_cpu-1.8.0-cp310-cp310-manylinux_2_17_x86_64.manylinux2014_x86_64.whl (27.0 MB)\n",
            "\u001b[2K     \u001b[90m━━━━━━━━━━━━━━━━━━━━━━━━━━━━━━━━━━━━━━━━\u001b[0m \u001b[32m27.0/27.0 MB\u001b[0m \u001b[31m21.1 MB/s\u001b[0m eta \u001b[36m0:00:00\u001b[0m\n",
            "\u001b[?25hRequirement already satisfied: numpy in /usr/local/lib/python3.10/dist-packages (from faiss-cpu) (1.25.2)\n",
            "Installing collected packages: faiss-cpu\n",
            "Successfully installed faiss-cpu-1.8.0\n"
          ]
        }
      ]
    },
    {
      "cell_type": "code",
      "source": [
        "!pip install rank_bm25"
      ],
      "metadata": {
        "id": "33STsJ-a00gU",
        "colab": {
          "base_uri": "https://localhost:8080/"
        },
        "outputId": "ea7a0e3b-4ca7-420a-9c35-8fdfb36d59c9"
      },
      "execution_count": 3,
      "outputs": [
        {
          "output_type": "stream",
          "name": "stdout",
          "text": [
            "Collecting rank_bm25\n",
            "  Downloading rank_bm25-0.2.2-py3-none-any.whl (8.6 kB)\n",
            "Requirement already satisfied: numpy in /usr/local/lib/python3.10/dist-packages (from rank_bm25) (1.25.2)\n",
            "Installing collected packages: rank_bm25\n",
            "Successfully installed rank_bm25-0.2.2\n"
          ]
        }
      ]
    },
    {
      "cell_type": "code",
      "source": [
        "from google.colab import drive\n",
        "drive.mount('/content/drive')"
      ],
      "metadata": {
        "colab": {
          "base_uri": "https://localhost:8080/",
          "height": 304
        },
        "id": "O1awQB98Vjf9",
        "outputId": "4f84da32-280d-48a7-d198-2677fcd315a0"
      },
      "execution_count": null,
      "outputs": [
        {
          "output_type": "error",
          "ename": "MessageError",
          "evalue": "Error: credential propagation was unsuccessful",
          "traceback": [
            "\u001b[0;31m---------------------------------------------------------------------------\u001b[0m",
            "\u001b[0;31mMessageError\u001b[0m                              Traceback (most recent call last)",
            "\u001b[0;32m<ipython-input-5-d5df0069828e>\u001b[0m in \u001b[0;36m<cell line: 2>\u001b[0;34m()\u001b[0m\n\u001b[1;32m      1\u001b[0m \u001b[0;32mfrom\u001b[0m \u001b[0mgoogle\u001b[0m\u001b[0;34m.\u001b[0m\u001b[0mcolab\u001b[0m \u001b[0;32mimport\u001b[0m \u001b[0mdrive\u001b[0m\u001b[0;34m\u001b[0m\u001b[0;34m\u001b[0m\u001b[0m\n\u001b[0;32m----> 2\u001b[0;31m \u001b[0mdrive\u001b[0m\u001b[0;34m.\u001b[0m\u001b[0mmount\u001b[0m\u001b[0;34m(\u001b[0m\u001b[0;34m'/content/drive'\u001b[0m\u001b[0;34m)\u001b[0m\u001b[0;34m\u001b[0m\u001b[0;34m\u001b[0m\u001b[0m\n\u001b[0m",
            "\u001b[0;32m/usr/local/lib/python3.10/dist-packages/google/colab/drive.py\u001b[0m in \u001b[0;36mmount\u001b[0;34m(mountpoint, force_remount, timeout_ms, readonly)\u001b[0m\n\u001b[1;32m     98\u001b[0m \u001b[0;32mdef\u001b[0m \u001b[0mmount\u001b[0m\u001b[0;34m(\u001b[0m\u001b[0mmountpoint\u001b[0m\u001b[0;34m,\u001b[0m \u001b[0mforce_remount\u001b[0m\u001b[0;34m=\u001b[0m\u001b[0;32mFalse\u001b[0m\u001b[0;34m,\u001b[0m \u001b[0mtimeout_ms\u001b[0m\u001b[0;34m=\u001b[0m\u001b[0;36m120000\u001b[0m\u001b[0;34m,\u001b[0m \u001b[0mreadonly\u001b[0m\u001b[0;34m=\u001b[0m\u001b[0;32mFalse\u001b[0m\u001b[0;34m)\u001b[0m\u001b[0;34m:\u001b[0m\u001b[0;34m\u001b[0m\u001b[0;34m\u001b[0m\u001b[0m\n\u001b[1;32m     99\u001b[0m   \u001b[0;34m\"\"\"Mount your Google Drive at the specified mountpoint path.\"\"\"\u001b[0m\u001b[0;34m\u001b[0m\u001b[0;34m\u001b[0m\u001b[0m\n\u001b[0;32m--> 100\u001b[0;31m   return _mount(\n\u001b[0m\u001b[1;32m    101\u001b[0m       \u001b[0mmountpoint\u001b[0m\u001b[0;34m,\u001b[0m\u001b[0;34m\u001b[0m\u001b[0;34m\u001b[0m\u001b[0m\n\u001b[1;32m    102\u001b[0m       \u001b[0mforce_remount\u001b[0m\u001b[0;34m=\u001b[0m\u001b[0mforce_remount\u001b[0m\u001b[0;34m,\u001b[0m\u001b[0;34m\u001b[0m\u001b[0;34m\u001b[0m\u001b[0m\n",
            "\u001b[0;32m/usr/local/lib/python3.10/dist-packages/google/colab/drive.py\u001b[0m in \u001b[0;36m_mount\u001b[0;34m(mountpoint, force_remount, timeout_ms, ephemeral, readonly)\u001b[0m\n\u001b[1;32m    131\u001b[0m   )\n\u001b[1;32m    132\u001b[0m   \u001b[0;32mif\u001b[0m \u001b[0mephemeral\u001b[0m\u001b[0;34m:\u001b[0m\u001b[0;34m\u001b[0m\u001b[0;34m\u001b[0m\u001b[0m\n\u001b[0;32m--> 133\u001b[0;31m     _message.blocking_request(\n\u001b[0m\u001b[1;32m    134\u001b[0m         \u001b[0;34m'request_auth'\u001b[0m\u001b[0;34m,\u001b[0m\u001b[0;34m\u001b[0m\u001b[0;34m\u001b[0m\u001b[0m\n\u001b[1;32m    135\u001b[0m         \u001b[0mrequest\u001b[0m\u001b[0;34m=\u001b[0m\u001b[0;34m{\u001b[0m\u001b[0;34m'authType'\u001b[0m\u001b[0;34m:\u001b[0m \u001b[0;34m'dfs_ephemeral'\u001b[0m\u001b[0;34m}\u001b[0m\u001b[0;34m,\u001b[0m\u001b[0;34m\u001b[0m\u001b[0;34m\u001b[0m\u001b[0m\n",
            "\u001b[0;32m/usr/local/lib/python3.10/dist-packages/google/colab/_message.py\u001b[0m in \u001b[0;36mblocking_request\u001b[0;34m(request_type, request, timeout_sec, parent)\u001b[0m\n\u001b[1;32m    174\u001b[0m       \u001b[0mrequest_type\u001b[0m\u001b[0;34m,\u001b[0m \u001b[0mrequest\u001b[0m\u001b[0;34m,\u001b[0m \u001b[0mparent\u001b[0m\u001b[0;34m=\u001b[0m\u001b[0mparent\u001b[0m\u001b[0;34m,\u001b[0m \u001b[0mexpect_reply\u001b[0m\u001b[0;34m=\u001b[0m\u001b[0;32mTrue\u001b[0m\u001b[0;34m\u001b[0m\u001b[0;34m\u001b[0m\u001b[0m\n\u001b[1;32m    175\u001b[0m   )\n\u001b[0;32m--> 176\u001b[0;31m   \u001b[0;32mreturn\u001b[0m \u001b[0mread_reply_from_input\u001b[0m\u001b[0;34m(\u001b[0m\u001b[0mrequest_id\u001b[0m\u001b[0;34m,\u001b[0m \u001b[0mtimeout_sec\u001b[0m\u001b[0;34m)\u001b[0m\u001b[0;34m\u001b[0m\u001b[0;34m\u001b[0m\u001b[0m\n\u001b[0m",
            "\u001b[0;32m/usr/local/lib/python3.10/dist-packages/google/colab/_message.py\u001b[0m in \u001b[0;36mread_reply_from_input\u001b[0;34m(message_id, timeout_sec)\u001b[0m\n\u001b[1;32m    101\u001b[0m     ):\n\u001b[1;32m    102\u001b[0m       \u001b[0;32mif\u001b[0m \u001b[0;34m'error'\u001b[0m \u001b[0;32min\u001b[0m \u001b[0mreply\u001b[0m\u001b[0;34m:\u001b[0m\u001b[0;34m\u001b[0m\u001b[0;34m\u001b[0m\u001b[0m\n\u001b[0;32m--> 103\u001b[0;31m         \u001b[0;32mraise\u001b[0m \u001b[0mMessageError\u001b[0m\u001b[0;34m(\u001b[0m\u001b[0mreply\u001b[0m\u001b[0;34m[\u001b[0m\u001b[0;34m'error'\u001b[0m\u001b[0;34m]\u001b[0m\u001b[0;34m)\u001b[0m\u001b[0;34m\u001b[0m\u001b[0;34m\u001b[0m\u001b[0m\n\u001b[0m\u001b[1;32m    104\u001b[0m       \u001b[0;32mreturn\u001b[0m \u001b[0mreply\u001b[0m\u001b[0;34m.\u001b[0m\u001b[0mget\u001b[0m\u001b[0;34m(\u001b[0m\u001b[0;34m'data'\u001b[0m\u001b[0;34m,\u001b[0m \u001b[0;32mNone\u001b[0m\u001b[0;34m)\u001b[0m\u001b[0;34m\u001b[0m\u001b[0;34m\u001b[0m\u001b[0m\n\u001b[1;32m    105\u001b[0m \u001b[0;34m\u001b[0m\u001b[0m\n",
            "\u001b[0;31mMessageError\u001b[0m: Error: credential propagation was unsuccessful"
          ]
        }
      ]
    },
    {
      "cell_type": "code",
      "source": [
        "!pip install -U langchain-community -q -U"
      ],
      "metadata": {
        "id": "gjdwThWa9BRX",
        "colab": {
          "base_uri": "https://localhost:8080/"
        },
        "outputId": "ac0a7d5b-c70e-47d8-b906-f53e1ac3972d"
      },
      "execution_count": 4,
      "outputs": [
        {
          "output_type": "stream",
          "name": "stdout",
          "text": [
            "\u001b[2K     \u001b[90m━━━━━━━━━━━━━━━━━━━━━━━━━━━━━━━━━━━━━━━━\u001b[0m \u001b[32m2.2/2.2 MB\u001b[0m \u001b[31m7.3 MB/s\u001b[0m eta \u001b[36m0:00:00\u001b[0m\n",
            "\u001b[2K     \u001b[90m━━━━━━━━━━━━━━━━━━━━━━━━━━━━━━━━━━━━━━━━\u001b[0m \u001b[32m49.2/49.2 kB\u001b[0m \u001b[31m2.6 MB/s\u001b[0m eta \u001b[36m0:00:00\u001b[0m\n",
            "\u001b[?25h"
          ]
        }
      ]
    },
    {
      "cell_type": "code",
      "source": [
        "from langchain.document_loaders import TextLoader\n",
        "from langchain.text_splitter import RecursiveCharacterTextSplitter\n",
        "from langchain.embeddings import HuggingFaceInferenceAPIEmbeddings\n",
        "from langchain.vectorstores import FAISS\n",
        "from langchain.retrievers import ContextualCompressionRetriever\n",
        "from langchain.retrievers.document_compressors import CohereRerank\n",
        "from langchain_core.prompts import ChatPromptTemplate\n",
        "from langchain_core.output_parsers import StrOutputParser\n",
        "from langchain_core.runnables import RunnablePassthrough\n",
        "from langchain.retrievers import BM25Retriever, EnsembleRetriever"
      ],
      "metadata": {
        "id": "-JxriG3IV21f"
      },
      "execution_count": 5,
      "outputs": []
    },
    {
      "cell_type": "code",
      "source": [
        "import os\n",
        "from getpass import getpass\n",
        "\n",
        "HF_token = getpass()"
      ],
      "metadata": {
        "colab": {
          "base_uri": "https://localhost:8080/"
        },
        "id": "3pC7XoJpYjQE",
        "outputId": "e74958cc-e90c-4b1d-c239-a791e4819533"
      },
      "execution_count": 7,
      "outputs": [
        {
          "name": "stdout",
          "output_type": "stream",
          "text": [
            "··········\n"
          ]
        }
      ]
    },
    {
      "cell_type": "code",
      "source": [
        "os.environ['HUGGINGFACEHUB_API_TOKEN'] = HF_token"
      ],
      "metadata": {
        "id": "6SPLFzjtYlXe"
      },
      "execution_count": 8,
      "outputs": []
    },
    {
      "cell_type": "markdown",
      "source": [
        "## Dataset\n",
        "<!-- [BBC Tech News Dataset](http://mlg.ucd.ie/datasets/bbc.html) -->"
      ],
      "metadata": {
        "id": "wKmoKwcN5_li"
      }
    },
    {
      "cell_type": "code",
      "source": [
        "directory_path='/content'"
      ],
      "metadata": {
        "id": "Cr80z3gVYsAw"
      },
      "execution_count": 9,
      "outputs": []
    },
    {
      "cell_type": "code",
      "source": [],
      "metadata": {
        "colab": {
          "base_uri": "https://localhost:8080/"
        },
        "id": "c1E2j5eVABxy",
        "outputId": "1d786dc0-43a2-4fda-926f-153af9ce039e"
      },
      "execution_count": 10,
      "outputs": [
        {
          "output_type": "stream",
          "name": "stdout",
          "text": [
            "batch0preprocessed_file.txt  batch1preprocessed_file.txt  batch2preprocessed_file.txt  sample_data\n"
          ]
        }
      ]
    },
    {
      "cell_type": "code",
      "source": [
        "filenames  = ['/content/batch0preprocessed_file.txt','/content/batch1preprocessed_file.txt','/content/batch2preprocessed_file.txt']\n",
        "documents = \"\"\n",
        "for file in filenames:\n",
        "  with open(file, 'r') as file:\n",
        "    # Read the content of the file and append it to the variable\n",
        "    documents += file.read()\n"
      ],
      "metadata": {
        "id": "WAs40WoqY4Vk"
      },
      "execution_count": 10,
      "outputs": []
    },
    {
      "cell_type": "code",
      "source": [
        "documents[:3]"
      ],
      "metadata": {
        "colab": {
          "base_uri": "https://localhost:8080/",
          "height": 36
        },
        "id": "lzIzrMpWZCvc",
        "outputId": "2e023399-2d95-4c31-bcfb-1ce67e961699"
      },
      "execution_count": 11,
      "outputs": [
        {
          "output_type": "execute_result",
          "data": {
            "text/plain": [
              "'CIT'"
            ],
            "application/vnd.google.colaboratory.intrinsic+json": {
              "type": "string"
            }
          },
          "metadata": {},
          "execution_count": 11
        }
      ]
    },
    {
      "cell_type": "code",
      "source": [
        "len(documents)"
      ],
      "metadata": {
        "colab": {
          "base_uri": "https://localhost:8080/"
        },
        "id": "cvI6o9HRZEyG",
        "outputId": "f693eef9-0b01-45ff-96a5-4d6032ca17cc"
      },
      "execution_count": 12,
      "outputs": [
        {
          "output_type": "execute_result",
          "data": {
            "text/plain": [
              "298846"
            ]
          },
          "metadata": {},
          "execution_count": 12
        }
      ]
    },
    {
      "cell_type": "markdown",
      "source": [
        "### Chunking the text"
      ],
      "metadata": {
        "id": "xZlMu4FL6Ets"
      }
    },
    {
      "cell_type": "code",
      "source": [
        "from langchain.schema import Document"
      ],
      "metadata": {
        "id": "cV5cep0pfwHC"
      },
      "execution_count": 13,
      "outputs": []
    },
    {
      "cell_type": "code",
      "source": [
        "filenames  = ['/content/batch0preprocessed_file.txt','/content/batch1preprocessed_file.txt','/content/batch2preprocessed_file.txt']\n",
        "documents = [] # Initialize documents as a list\n",
        "for file in filenames:\n",
        "  with open(file, 'r') as f:\n",
        "    # Read the content of the file and create a Document object\n",
        "    documents.append(Document(page_content=f.read()))\n",
        "\n",
        "text_splitter=RecursiveCharacterTextSplitter(chunk_size=512,chunk_overlap=50)\n",
        "text_splits=text_splitter.split_documents(documents)\n",
        "print(len(text_splits))"
      ],
      "metadata": {
        "colab": {
          "base_uri": "https://localhost:8080/"
        },
        "id": "O_sh2gipftIw",
        "outputId": "f8627ede-08bc-4f48-d6d8-b2222bdbfb81"
      },
      "execution_count": 14,
      "outputs": [
        {
          "output_type": "stream",
          "name": "stdout",
          "text": [
            "642\n"
          ]
        }
      ]
    },
    {
      "cell_type": "code",
      "source": [
        "text_splits[0]"
      ],
      "metadata": {
        "colab": {
          "base_uri": "https://localhost:8080/"
        },
        "id": "rGT04s6zZRcE",
        "outputId": "c82b0693-0b0a-4e7d-e112-a1472a2be6d0"
      },
      "execution_count": 15,
      "outputs": [
        {
          "output_type": "execute_result",
          "data": {
            "text/plain": [
              "Document(page_content='CITY AND\\nUNTY OF SAN FRANCISCO\\nCity and County of San Francisco\\nCertified Copy\\nOrdinance\\nCity Hall\\n1 Dr. Carlton B. Goodlett Place\\nSan Francisco, CA 94102-4689\\n[Initiative Ordinance - Business and Tax Regulations Code - Sales Tax for\\nTransportation Authority ]\\nSponsors: Mandelman; Walton, Peskin, Ronen, Melgar, Stefani, Preston, Mar, Safai\\nand Dorsey\\nOrdinance approving a new 2022 Transportation Expenditure Plan for the County')"
            ]
          },
          "metadata": {},
          "execution_count": 15
        }
      ]
    },
    {
      "cell_type": "markdown",
      "source": [
        "### Embedding Model"
      ],
      "metadata": {
        "id": "Eg2wh1dD6Iez"
      }
    },
    {
      "cell_type": "code",
      "source": [
        "embeddings=HuggingFaceInferenceAPIEmbeddings(\n",
        "    api_key=HF_token,\n",
        "    model_name='BAAI/bge-base-en-v1.5'\n",
        ")"
      ],
      "metadata": {
        "id": "z5AJEEpEZbB6"
      },
      "execution_count": 16,
      "outputs": []
    },
    {
      "cell_type": "code",
      "source": [
        "# Embed the text splits using the 'embeddings' object\n",
        "embeddings_result = embeddings.embed_documents([t.page_content for t in text_splits])\n"
      ],
      "metadata": {
        "id": "-90U8HQtgZsG"
      },
      "execution_count": null,
      "outputs": []
    },
    {
      "cell_type": "code",
      "source": [
        "embeddings_result"
      ],
      "metadata": {
        "colab": {
          "base_uri": "https://localhost:8080/"
        },
        "id": "fy12K-RiVZfS",
        "outputId": "7729cdc1-9814-4b20-81f9-a9af0cdc404d"
      },
      "execution_count": 23,
      "outputs": [
        {
          "output_type": "execute_result",
          "data": {
            "text/plain": [
              "{'error': 'Internal Server Error'}"
            ]
          },
          "metadata": {},
          "execution_count": 23
        }
      ]
    },
    {
      "cell_type": "code",
      "source": [
        "vectorstore = FAISS.from_documents(text_splits, embeddings_result)"
      ],
      "metadata": {
        "id": "Taq_vvxUZm6W"
      },
      "execution_count": null,
      "outputs": []
    },
    {
      "cell_type": "code",
      "source": [
        "# Persist the vectorstore\n",
        "vectorstore.save_local(\"faiss_index\")\n"
      ],
      "metadata": {
        "id": "aqSlGaZTgzgg"
      },
      "execution_count": 33,
      "outputs": []
    },
    {
      "cell_type": "code",
      "source": [
        "# Load the persisted vectorstore\n",
        "new_vectorstore = FAISS.load_local(\"faiss_index\", embeddings)"
      ],
      "metadata": {
        "id": "eSFlfl4Wg_jQ"
      },
      "execution_count": null,
      "outputs": []
    },
    {
      "cell_type": "markdown",
      "source": [],
      "metadata": {
        "id": "d6a-sPvrOlIL"
      }
    },
    {
      "cell_type": "markdown",
      "source": [
        "## **Implementing Hybrid Search with ensemble Retrieval**\n",
        "\n",
        "> Indented block\n",
        "\n"
      ],
      "metadata": {
        "id": "D7pLyG2H6VAp"
      }
    },
    {
      "cell_type": "code",
      "source": [
        "retriever_vectordb = vectorstore.as_retriever(search_kwargs={\"k\": 15})"
      ],
      "metadata": {
        "id": "A4CZMZzwZpty"
      },
      "execution_count": 34,
      "outputs": []
    },
    {
      "cell_type": "code",
      "source": [
        "keyword_retriever = BM25Retriever.from_documents(text_splits)\n",
        "keyword_retriever.k =  5"
      ],
      "metadata": {
        "id": "pIaE1Ndi0VaR"
      },
      "execution_count": 35,
      "outputs": []
    },
    {
      "cell_type": "code",
      "source": [
        "ensemble_retriever = EnsembleRetriever(retrievers=[retriever_vectordb,keyword_retriever],\n",
        "                                       weights=[0.5, 0.5])"
      ],
      "metadata": {
        "id": "jxW1DOf70b3Q"
      },
      "execution_count": 36,
      "outputs": []
    },
    {
      "cell_type": "code",
      "source": [
        "query=\"Who is exempt from paying the registration fee required by this Article 12, and under what conditions?\""
      ],
      "metadata": {
        "id": "x7yn-nAScMoE"
      },
      "execution_count": 37,
      "outputs": []
    },
    {
      "cell_type": "code",
      "source": [
        "keyword_relevant_doc = keyword_retriever.get_relevant_documents(query)\n",
        "keyword_relevant_doc"
      ],
      "metadata": {
        "colab": {
          "base_uri": "https://localhost:8080/"
        },
        "id": "Z0Gu7HLAlnPh",
        "outputId": "a0656f91-8586-4ca2-cc55-8fcb24916cd0"
      },
      "execution_count": 42,
      "outputs": [
        {
          "output_type": "execute_result",
          "data": {
            "text/plain": [
              "[Document(page_content='Revenue Code of 1986, as amended, as qualified by Sections 502, 503, 504, and 508 of the\\nInternal Revenue Code of 1986, as amended, shall be exempt from the registration fee under\\nthis Article 12, only so long as those exemptions continue to exist under state or federal law.\\n29SANEY CO\\n2024 MA 10 PM 1:29\\n(+) A person shall be exempt from paying the registration fee required by this\\nARTIENT OF ELEC\\nSection 855 if and to the extent that, and only so long as, federal or state law prohibits the'),\n",
              " Document(page_content=\"Article 6, the Tax Collector shall determine the amount of the registration fee required based on the\\napplicant's estimated gross receipts under Article 12 A1 (Gross Receipts Tax Ordinance) for the\\nperiod covered by the registration certificate.\\n(ed) Fee for Persons Subject to Administrative Office Tax.\\n(1) Except as otherwise provided in this Section 855 and Section 856 of this\\nArticle 12, and Section 76.3 of Article 2 of this Business and Tax Regulations Code, the annual\"),\n",
              " Document(page_content='Annual Registration Fee\\n$15,000\\n$25,000\\n$35,000\\n(2) Except as otherwise provided in this Section 855 and Section 856 of this Article 12,\\nand Section 76.3 of Article 2 of this Business and Tax Regulations Code, the annual fee for obtaining a\\nregistration certificate for the 2025-2026 registration year, payable in advance, for a person or\\ncombined group that was required to pay the Administrative Office Tax under Section 953.8 of\\nArticle 12-A-1 for the preceding tax year, shall be as follows:'),\n",
              " Document(page_content='September 30, the registration fee shall be 75% of the annual fee; and for persons commencing\\nbusiness between October 1 and December 31, the registration fee shall be 50% of the annual fee.\\n(52) Notwithstanding any other provision of this Article 12, no person obtaining a\\nregistration certificate for a newly established business that qualifies for the minimum\\nregistration fee set forth in Section 855 of this Article shall be entitled to prorate the'),\n",
              " Document(page_content=\"for a registration certificate, using the form prescribed by the Tax Collector. The application\\nshall be accompanied by the person's registration fee as determined under this Article 12,\\nexcept for the initial application filed for a person that is part of a combined group (as\\ndescribed in Section 956.3 of Article 12-A-1) where the combined group has already paid the\\nfee on a combined basis. A combined group as described in Section 956.3 of Article 12-A-1\")]"
            ]
          },
          "metadata": {},
          "execution_count": 42
        }
      ]
    },
    {
      "cell_type": "code",
      "source": [
        "relevenat_docs = retriever_vectordb.get_relevant_documents(query)\n",
        "relevenat_docs"
      ],
      "metadata": {
        "colab": {
          "base_uri": "https://localhost:8080/"
        },
        "id": "1oRdhmqHlS-0",
        "outputId": "44d46129-02c0-4adb-e3e3-e277a9bb78de"
      },
      "execution_count": 40,
      "outputs": [
        {
          "output_type": "execute_result",
          "data": {
            "text/plain": [
              "[Document(page_content='Revenue Code of 1986, as amended, as qualified by Sections 502, 503, 504, and 508 of the\\nInternal Revenue Code of 1986, as amended, shall be exempt from the registration fee under\\nthis Article 12, only so long as those exemptions continue to exist under state or federal law.\\n29SANEY CO\\n2024 MA 10 PM 1:29\\n(+) A person shall be exempt from paying the registration fee required by this\\nARTIENT OF ELEC\\nSection 855 if and to the extent that, and only so long as, federal or state law prohibits the'),\n",
              " Document(page_content=\"for a registration certificate, using the form prescribed by the Tax Collector. The application\\nshall be accompanied by the person's registration fee as determined under this Article 12,\\nexcept for the initial application filed for a person that is part of a combined group (as\\ndescribed in Section 956.3 of Article 12-A-1) where the combined group has already paid the\\nfee on a combined basis. A combined group as described in Section 956.3 of Article 12-A-1\"),\n",
              " Document(page_content='September 30, the registration fee shall be 75% of the annual fee; and for persons commencing\\nbusiness between October 1 and December 31, the registration fee shall be 50% of the annual fee.\\n(52) Notwithstanding any other provision of this Article 12, no person obtaining a\\nregistration certificate for a newly established business that qualifies for the minimum\\nregistration fee set forth in Section 855 of this Article shall be entitled to prorate the'),\n",
              " Document(page_content=\"Annual Registration Fee\\n$500\\n$1,000\\n$15,000\\n$25,000\\n$35,000\\n(e) In the event that an applicant for a registration certificate that was required to pay the\\nAdministrative Office Tax under Section 953.8 of Article 12 A 1 for the preceding tax year has not filed\\na tax return for the immediately preceding tax year as required by Section 6.92 of Article 6, the Tax\\nCollector shall determine the amount of the registration fee required based on the applicant's\"),\n",
              " Document(page_content=\"Article 6, the Tax Collector shall determine the amount of the registration fee required based on the\\napplicant's estimated gross receipts under Article 12 A1 (Gross Receipts Tax Ordinance) for the\\nperiod covered by the registration certificate.\\n(ed) Fee for Persons Subject to Administrative Office Tax.\\n(1) Except as otherwise provided in this Section 855 and Section 856 of this\\nArticle 12, and Section 76.3 of Article 2 of this Business and Tax Regulations Code, the annual\"),\n",
              " Document(page_content='December 31, the registration fee shall be 75% of the annual fee. Where a registration\\ncertificate is issued for a period other than for a registration year, the Tax Collector shall have\\ndiscretion to prorate the registration fee in accordance with this model.\\n(3) For the 2025-2026 registration year, the fee for obtaining a registration certificate\\nfor a newly established business shall be determined pursuant to Section 855(c) of this Article 12 using'),\n",
              " Document(page_content='otherwise provided in this Business and Tax Regulations Code, returns and payments of the\\nBusiness Registration Fee (Article 12) shall be filed annually and are due and payable, and\\nshall be delinquent if not submitted and paid to the Tax Collector, on or before the last day of\\nMay preceding the registration year commencing July 1 of that year.\\n(2) For registration years beginning on or after April 1, 2026, except for any extensions'),\n",
              " Document(page_content='fee for obtaining a registration certificate for registration years ending on or before June 30, 2025,\\npayable in advance, for a person or combined group that was required to pay the\\nAdministrative Office Tax under Section 953.8 of Article 12-A-1 for the preceding tax year,\\nshall be as follows:\\nSan Francisco Payroll Expense for the\\nImmediately Preceding Tax Year\\n$0 to $2,500,000\\n$2,500,000.01 to $25,000,000\\n$25,000,000.01 or more\\nAnnual Registration Fee\\n$15,000\\n$25,000\\n$35,000'),\n",
              " Document(page_content='Annual Registration Fee\\n$15,000\\n$25,000\\n$35,000\\n(2) Except as otherwise provided in this Section 855 and Section 856 of this Article 12,\\nand Section 76.3 of Article 2 of this Business and Tax Regulations Code, the annual fee for obtaining a\\nregistration certificate for the 2025-2026 registration year, payable in advance, for a person or\\ncombined group that was required to pay the Administrative Office Tax under Section 953.8 of\\nArticle 12-A-1 for the preceding tax year, shall be as follows:'),\n",
              " Document(page_content=\"registration fee under this Section 856, but instead shall pay the minimum registration fee.\\n(c) Except as provided in Section 6.9-4(b) of Article 6 of this Business and Tax Regulations\\nCode, aAll applications for renewal of registration certificates shall be accompanied by the full\\namount of the applicant's annual registration fee for the period covered by the registration\\ncertificate. A combined group shall file only one application for renewal for all entities in the\\ncombined group.\"),\n",
              " Document(page_content='registration certificate for registration years beginning on or after April 1, 2026, payable in advance,\\nfor a person or combined group that was required to pay the Administrative Office Tax under\\nSection 953.8 of Article 12-A-1 for the preceding tax year, shall be as follows:\\nSan Francisco Payroll Expense for the\\nImmediately Preceding Tax Year\\n$0 to $500,000\\n$500,000.01 to $1,500,000\\n$1,500,000.01 to $2,500,000\\n$2,500,000.01 to $25,000,000\\n$25,000,000.01 or more\\nAnnual Registration Fee\\n$500\\n$1,000\\n$15,000'),\n",
              " Document(page_content='$14,379\\n$50,000,000.01 to $100,000,000\\n$25,882\\n$100,000,000.01 to $200,000,000\\n$34,510\\n$200,000,000.01 and over\\n$40,261\\n(2) Fee for Retail Trade, Wholesale Trade, and Certain Services. Except as\\notherwise provided in this Section 855 and Section 856 of this Article 12, and Section 76.3 of\\nArticle 2 of this Business and Tax Regulations Code, for registration years beginning on or after\\nJuly 1, 2021, and on or before June 30, 2025, the annual fee for obtaining a registration'),\n",
              " Document(page_content=\"(2) For registration years commencing on or after July 1, 2021, and ending on or\\nbefore June 30, 2025, the fee for obtaining a registration certificate for a newly established\\nbusiness shall be determined pursuant to Section 855(b) of this Article 12 using the applicant's\\nestimated gross receipts under Article 12-A-1 (Gross Receipts Tax Ordinance) for the tax year\\nin which the person commences such business within the City. The registration fee shall be\"),\n",
              " Document(page_content=\"of this Article 12 using the applicant's estimated San Francisco Gross Receipts for the tax year in\\nwhich the person commences such business within the City. The registration fee shall be prorated as\\nfollows: For persons commencing business between January 1 and March 31, the registration fee shall\\nbe 25% of the annual fee; for persons commencing business between April 1 and June 30, the\\nregistration fee shall be 100% of the annual fee; for persons commencing business between July 1 and\"),\n",
              " Document(page_content='amount so applied at the rate of interest set forth above, computed from the date of payment.\\n(c) If a taxpayer elects to apply all or part of an overpayment of the business\\nregistration fee in Article 12, the Gross Receipts Tax in Article 12-A-1 (including the tax on\\nadministrative office business activities under Section 953.8 of Article 12-A-1), the Sugary\\nDrinks Distributor Tax in Article 8, the Early Care and Education Commercial Rents Tax in')]"
            ]
          },
          "metadata": {},
          "execution_count": 40
        }
      ]
    },
    {
      "cell_type": "code",
      "source": [
        "docs_rel=ensemble_retriever.get_relevant_documents(query)\n",
        "docs_rel"
      ],
      "metadata": {
        "colab": {
          "base_uri": "https://localhost:8080/"
        },
        "id": "zTedDTz0cQle",
        "outputId": "35d385bf-c9d6-4ef7-c13c-0137e834c616"
      },
      "execution_count": 64,
      "outputs": [
        {
          "output_type": "execute_result",
          "data": {
            "text/plain": [
              "[Document(page_content='Revenue Code of 1986, as amended, as qualified by Sections 502, 503, 504, and 508 of the\\nInternal Revenue Code of 1986, as amended, shall be exempt from the registration fee under\\nthis Article 12, only so long as those exemptions continue to exist under state or federal law.\\n29SANEY CO\\n2024 MA 10 PM 1:29\\n(+) A person shall be exempt from paying the registration fee required by this\\nARTIENT OF ELEC\\nSection 855 if and to the extent that, and only so long as, federal or state law prohibits the'),\n",
              " Document(page_content=\"for a registration certificate, using the form prescribed by the Tax Collector. The application\\nshall be accompanied by the person's registration fee as determined under this Article 12,\\nexcept for the initial application filed for a person that is part of a combined group (as\\ndescribed in Section 956.3 of Article 12-A-1) where the combined group has already paid the\\nfee on a combined basis. A combined group as described in Section 956.3 of Article 12-A-1\"),\n",
              " Document(page_content=\"Article 6, the Tax Collector shall determine the amount of the registration fee required based on the\\napplicant's estimated gross receipts under Article 12 A1 (Gross Receipts Tax Ordinance) for the\\nperiod covered by the registration certificate.\\n(ed) Fee for Persons Subject to Administrative Office Tax.\\n(1) Except as otherwise provided in this Section 855 and Section 856 of this\\nArticle 12, and Section 76.3 of Article 2 of this Business and Tax Regulations Code, the annual\"),\n",
              " Document(page_content='September 30, the registration fee shall be 75% of the annual fee; and for persons commencing\\nbusiness between October 1 and December 31, the registration fee shall be 50% of the annual fee.\\n(52) Notwithstanding any other provision of this Article 12, no person obtaining a\\nregistration certificate for a newly established business that qualifies for the minimum\\nregistration fee set forth in Section 855 of this Article shall be entitled to prorate the'),\n",
              " Document(page_content='Annual Registration Fee\\n$15,000\\n$25,000\\n$35,000\\n(2) Except as otherwise provided in this Section 855 and Section 856 of this Article 12,\\nand Section 76.3 of Article 2 of this Business and Tax Regulations Code, the annual fee for obtaining a\\nregistration certificate for the 2025-2026 registration year, payable in advance, for a person or\\ncombined group that was required to pay the Administrative Office Tax under Section 953.8 of\\nArticle 12-A-1 for the preceding tax year, shall be as follows:'),\n",
              " Document(page_content=\"Annual Registration Fee\\n$500\\n$1,000\\n$15,000\\n$25,000\\n$35,000\\n(e) In the event that an applicant for a registration certificate that was required to pay the\\nAdministrative Office Tax under Section 953.8 of Article 12 A 1 for the preceding tax year has not filed\\na tax return for the immediately preceding tax year as required by Section 6.92 of Article 6, the Tax\\nCollector shall determine the amount of the registration fee required based on the applicant's\"),\n",
              " Document(page_content='December 31, the registration fee shall be 75% of the annual fee. Where a registration\\ncertificate is issued for a period other than for a registration year, the Tax Collector shall have\\ndiscretion to prorate the registration fee in accordance with this model.\\n(3) For the 2025-2026 registration year, the fee for obtaining a registration certificate\\nfor a newly established business shall be determined pursuant to Section 855(c) of this Article 12 using'),\n",
              " Document(page_content='otherwise provided in this Business and Tax Regulations Code, returns and payments of the\\nBusiness Registration Fee (Article 12) shall be filed annually and are due and payable, and\\nshall be delinquent if not submitted and paid to the Tax Collector, on or before the last day of\\nMay preceding the registration year commencing July 1 of that year.\\n(2) For registration years beginning on or after April 1, 2026, except for any extensions'),\n",
              " Document(page_content='fee for obtaining a registration certificate for registration years ending on or before June 30, 2025,\\npayable in advance, for a person or combined group that was required to pay the\\nAdministrative Office Tax under Section 953.8 of Article 12-A-1 for the preceding tax year,\\nshall be as follows:\\nSan Francisco Payroll Expense for the\\nImmediately Preceding Tax Year\\n$0 to $2,500,000\\n$2,500,000.01 to $25,000,000\\n$25,000,000.01 or more\\nAnnual Registration Fee\\n$15,000\\n$25,000\\n$35,000'),\n",
              " Document(page_content=\"registration fee under this Section 856, but instead shall pay the minimum registration fee.\\n(c) Except as provided in Section 6.9-4(b) of Article 6 of this Business and Tax Regulations\\nCode, aAll applications for renewal of registration certificates shall be accompanied by the full\\namount of the applicant's annual registration fee for the period covered by the registration\\ncertificate. A combined group shall file only one application for renewal for all entities in the\\ncombined group.\"),\n",
              " Document(page_content='registration certificate for registration years beginning on or after April 1, 2026, payable in advance,\\nfor a person or combined group that was required to pay the Administrative Office Tax under\\nSection 953.8 of Article 12-A-1 for the preceding tax year, shall be as follows:\\nSan Francisco Payroll Expense for the\\nImmediately Preceding Tax Year\\n$0 to $500,000\\n$500,000.01 to $1,500,000\\n$1,500,000.01 to $2,500,000\\n$2,500,000.01 to $25,000,000\\n$25,000,000.01 or more\\nAnnual Registration Fee\\n$500\\n$1,000\\n$15,000'),\n",
              " Document(page_content='$14,379\\n$50,000,000.01 to $100,000,000\\n$25,882\\n$100,000,000.01 to $200,000,000\\n$34,510\\n$200,000,000.01 and over\\n$40,261\\n(2) Fee for Retail Trade, Wholesale Trade, and Certain Services. Except as\\notherwise provided in this Section 855 and Section 856 of this Article 12, and Section 76.3 of\\nArticle 2 of this Business and Tax Regulations Code, for registration years beginning on or after\\nJuly 1, 2021, and on or before June 30, 2025, the annual fee for obtaining a registration'),\n",
              " Document(page_content=\"(2) For registration years commencing on or after July 1, 2021, and ending on or\\nbefore June 30, 2025, the fee for obtaining a registration certificate for a newly established\\nbusiness shall be determined pursuant to Section 855(b) of this Article 12 using the applicant's\\nestimated gross receipts under Article 12-A-1 (Gross Receipts Tax Ordinance) for the tax year\\nin which the person commences such business within the City. The registration fee shall be\"),\n",
              " Document(page_content=\"of this Article 12 using the applicant's estimated San Francisco Gross Receipts for the tax year in\\nwhich the person commences such business within the City. The registration fee shall be prorated as\\nfollows: For persons commencing business between January 1 and March 31, the registration fee shall\\nbe 25% of the annual fee; for persons commencing business between April 1 and June 30, the\\nregistration fee shall be 100% of the annual fee; for persons commencing business between July 1 and\"),\n",
              " Document(page_content='amount so applied at the rate of interest set forth above, computed from the date of payment.\\n(c) If a taxpayer elects to apply all or part of an overpayment of the business\\nregistration fee in Article 12, the Gross Receipts Tax in Article 12-A-1 (including the tax on\\nadministrative office business activities under Section 953.8 of Article 12-A-1), the Sugary\\nDrinks Distributor Tax in Article 8, the Early Care and Education Commercial Rents Tax in')]"
            ]
          },
          "metadata": {},
          "execution_count": 64
        }
      ]
    },
    {
      "cell_type": "code",
      "source": [
        "type(docs_rel[0])"
      ],
      "metadata": {
        "colab": {
          "base_uri": "https://localhost:8080/",
          "height": 121
        },
        "id": "RulNQvwvukHb",
        "outputId": "1fe8e27b-fb76-4505-911d-ad33ccf7e2f6"
      },
      "execution_count": 67,
      "outputs": [
        {
          "output_type": "execute_result",
          "data": {
            "text/plain": [
              "langchain_core.documents.base.Document"
            ],
            "text/html": [
              "<div style=\"max-width:800px; border: 1px solid var(--colab-border-color);\"><style>\n",
              "      pre.function-repr-contents {\n",
              "        overflow-x: auto;\n",
              "        padding: 8px 12px;\n",
              "        max-height: 500px;\n",
              "      }\n",
              "\n",
              "      pre.function-repr-contents.function-repr-contents-collapsed {\n",
              "        cursor: pointer;\n",
              "        max-height: 100px;\n",
              "      }\n",
              "    </style>\n",
              "    <pre style=\"white-space: initial; background:\n",
              "         var(--colab-secondary-surface-color); padding: 8px 12px;\n",
              "         border-bottom: 1px solid var(--colab-border-color);\"><b>langchain_core.documents.base.Document</b><br/>def __init__(page_content: str, **kwargs: Any) -&gt; None</pre><pre class=\"function-repr-contents function-repr-contents-collapsed\" style=\"\"><a class=\"filepath\" style=\"display:none\" href=\"#\">/usr/local/lib/python3.10/dist-packages/langchain_core/documents/base.py</a>Class for storing a piece of text and associated metadata.</pre>\n",
              "      <script>\n",
              "      if (google.colab.kernel.accessAllowed && google.colab.files && google.colab.files.view) {\n",
              "        for (const element of document.querySelectorAll('.filepath')) {\n",
              "          element.style.display = 'block'\n",
              "          element.onclick = (event) => {\n",
              "            event.preventDefault();\n",
              "            event.stopPropagation();\n",
              "            google.colab.files.view(element.textContent, 9);\n",
              "          };\n",
              "        }\n",
              "      }\n",
              "      for (const element of document.querySelectorAll('.function-repr-contents')) {\n",
              "        element.onclick = (event) => {\n",
              "          event.preventDefault();\n",
              "          event.stopPropagation();\n",
              "          element.classList.toggle('function-repr-contents-collapsed');\n",
              "        };\n",
              "      }\n",
              "      </script>\n",
              "      </div>"
            ]
          },
          "metadata": {},
          "execution_count": 67
        }
      ]
    },
    {
      "cell_type": "code",
      "source": [],
      "metadata": {
        "id": "tCXzWG-RkXAk"
      },
      "execution_count": null,
      "outputs": []
    },
    {
      "cell_type": "markdown",
      "source": [
        "## Reranking"
      ],
      "metadata": {
        "id": "jFJNibWZWJQw"
      }
    },
    {
      "cell_type": "markdown",
      "source": [
        "### Implementing Re-ranking with Cohere-Rerank"
      ],
      "metadata": {
        "id": "4DCCIAzB6wcH"
      }
    },
    {
      "cell_type": "code",
      "source": [
        "Cohere_API_token = getpass()"
      ],
      "metadata": {
        "colab": {
          "base_uri": "https://localhost:8080/"
        },
        "id": "DmebX6o7cVw8",
        "outputId": "2c42421f-fa2f-4eb9-eaf9-383f767e6970"
      },
      "execution_count": 95,
      "outputs": [
        {
          "name": "stdout",
          "output_type": "stream",
          "text": [
            "··········\n"
          ]
        }
      ]
    },
    {
      "cell_type": "code",
      "source": [
        "os.environ[\"COHERE_API_KEY\"] =Cohere_API_token"
      ],
      "metadata": {
        "id": "iNZyWvTXy5-S"
      },
      "execution_count": 96,
      "outputs": []
    },
    {
      "cell_type": "code",
      "source": [
        "import cohere\n",
        "co = cohere.Client(api_key=Cohere_API_token)"
      ],
      "metadata": {
        "id": "h0INadAbtoXS"
      },
      "execution_count": 62,
      "outputs": []
    },
    {
      "cell_type": "code",
      "source": [
        "from langchain.llms import HuggingFaceHub\n",
        "model=HuggingFaceHub(repo_id='HuggingFaceH4/zephyr-7b-alpha',\n",
        "                     model_kwargs={\"temperature\":0.5,\"max_new_tokens\":512,\"max_length\":64}\n",
        ")"
      ],
      "metadata": {
        "colab": {
          "base_uri": "https://localhost:8080/"
        },
        "id": "0fMTkfXAzBAz",
        "outputId": "53b7e5e0-8a61-4dab-9adf-b1564df7c9dc"
      },
      "execution_count": 43,
      "outputs": [
        {
          "output_type": "stream",
          "name": "stderr",
          "text": [
            "/usr/local/lib/python3.10/dist-packages/langchain_core/_api/deprecation.py:139: LangChainDeprecationWarning: The class `HuggingFaceHub` was deprecated in LangChain 0.0.21 and will be removed in 0.3.0. An updated version of the class exists in the langchain-huggingface package and should be used instead. To use it run `pip install -U langchain-huggingface` and import as `from langchain_huggingface import HuggingFaceEndpoint`.\n",
            "  warn_deprecated(\n"
          ]
        }
      ]
    },
    {
      "cell_type": "code",
      "source": [
        "compressor = CohereRerank()\n",
        "compression_retriever = ContextualCompressionRetriever(\n",
        "    base_compressor=compressor, base_retriever=ensemble_retriever\n",
        ")\n",
        "compressed_docs = compression_retriever.get_relevant_documents(query)"
      ],
      "metadata": {
        "id": "-h4CYoqEzeyB"
      },
      "execution_count": 52,
      "outputs": []
    },
    {
      "cell_type": "code",
      "source": [
        "compression_retriever"
      ],
      "metadata": {
        "colab": {
          "base_uri": "https://localhost:8080/"
        },
        "id": "mQrpWgw0UHel",
        "outputId": "1e98d3a1-0668-463b-ad55-f26f4fb3cdd8"
      },
      "execution_count": 53,
      "outputs": [
        {
          "output_type": "execute_result",
          "data": {
            "text/plain": [
              "ContextualCompressionRetriever(base_compressor=CohereRerank(client=<cohere.client.Client object at 0x790db79b03d0>, top_n=3, model='rerank-english-v2.0', cohere_api_key=None, user_agent='langchain'), base_retriever=EnsembleRetriever(retrievers=[VectorStoreRetriever(tags=['FAISS', 'HuggingFaceInferenceAPIEmbeddings'], vectorstore=<langchain_community.vectorstores.faiss.FAISS object at 0x790dbaa2eb30>, search_kwargs={'k': 15}), BM25Retriever(vectorizer=<rank_bm25.BM25Okapi object at 0x790dbaa2e1a0>, k=5)], weights=[0.5, 0.5]))"
            ]
          },
          "metadata": {},
          "execution_count": 53
        }
      ]
    },
    {
      "cell_type": "code",
      "source": [
        "compressed_docs"
      ],
      "metadata": {
        "colab": {
          "base_uri": "https://localhost:8080/"
        },
        "id": "BdXSb_Yyzxll",
        "outputId": "ed60b6e5-4c67-4f52-ca8b-7c44c0c67ed4"
      },
      "execution_count": 54,
      "outputs": [
        {
          "output_type": "execute_result",
          "data": {
            "text/plain": [
              "[Document(page_content='Revenue Code of 1986, as amended, as qualified by Sections 502, 503, 504, and 508 of the\\nInternal Revenue Code of 1986, as amended, shall be exempt from the registration fee under\\nthis Article 12, only so long as those exemptions continue to exist under state or federal law.\\n29SANEY CO\\n2024 MA 10 PM 1:29\\n(+) A person shall be exempt from paying the registration fee required by this\\nARTIENT OF ELEC\\nSection 855 if and to the extent that, and only so long as, federal or state law prohibits the', metadata={'relevance_score': 0.9988883}),\n",
              " Document(page_content='September 30, the registration fee shall be 75% of the annual fee; and for persons commencing\\nbusiness between October 1 and December 31, the registration fee shall be 50% of the annual fee.\\n(52) Notwithstanding any other provision of this Article 12, no person obtaining a\\nregistration certificate for a newly established business that qualifies for the minimum\\nregistration fee set forth in Section 855 of this Article shall be entitled to prorate the', metadata={'relevance_score': 0.9789956}),\n",
              " Document(page_content=\"Article 6, the Tax Collector shall determine the amount of the registration fee required based on the\\napplicant's estimated gross receipts under Article 12 A1 (Gross Receipts Tax Ordinance) for the\\nperiod covered by the registration certificate.\\n(ed) Fee for Persons Subject to Administrative Office Tax.\\n(1) Except as otherwise provided in this Section 855 and Section 856 of this\\nArticle 12, and Section 76.3 of Article 2 of this Business and Tax Regulations Code, the annual\", metadata={'relevance_score': 0.97608364})]"
            ]
          },
          "metadata": {},
          "execution_count": 54
        }
      ]
    },
    {
      "cell_type": "code",
      "source": [
        "!pip install langchain-cohere -q -U"
      ],
      "metadata": {
        "id": "f4rysj6CD_TM"
      },
      "execution_count": 100,
      "outputs": []
    },
    {
      "cell_type": "code",
      "source": [
        "# from langchain.retrievers import ContextualCompressionRetriever, CohereRagRetriever\n",
        "# from langchain_community.chat_models import ChatCohere\n",
        "# # from langchain_cohere import ChatCohere"
      ],
      "metadata": {
        "id": "9ojPtvfqB5RO"
      },
      "execution_count": 108,
      "outputs": []
    },
    {
      "cell_type": "code",
      "source": [
        "# cohere_chat_model = ChatCohere(cohere_api_key=Cohere_API_token)\n",
        "# # cohere_embeddings = CohereEmbeddings(cohere_api_key=\"{API_KEY}\")\n",
        "# # Create the cohere rag retriever using the chat model\n",
        "# # llm = ChatCohere(cohere_api_key=Cohere_API_token)\n",
        "# rag = CohereRagRetriever(llm=cohere_chat_model)\n",
        "\n",
        "# docs = rag.get_relevant_documents(\n",
        "#     query,\n",
        "#     source_documents=compressed_docs,\n",
        "# )\n",
        "# # Print the documents\n",
        "# for doc in docs[:-1]:\n",
        "#     print(doc.metadata)\n",
        "#     print(\"\\n\\n\" + doc.page_content)\n",
        "#     print(\"\\n\\n\" + \"-\" * 30 + \"\\n\\n\")\n",
        "# # Print the final generation\n",
        "# answer = docs[-1].page_content\n",
        "# print(answer)\n",
        "# # Print the final citations\n",
        "# citations = docs[-1].metadata['citations']\n",
        "# print(citations)"
      ],
      "metadata": {
        "id": "PbyDX_ZmBTfy"
      },
      "execution_count": null,
      "outputs": []
    },
    {
      "cell_type": "markdown",
      "source": [
        "### rerranking with zypher"
      ],
      "metadata": {
        "id": "B_ezgH9fNl1z"
      }
    },
    {
      "cell_type": "code",
      "source": [
        "from langchain.retrievers.contextual_compression import ContextualCompressionRetriever\n",
        "from langchain_community.document_compressors.rankllm_rerank import RankLLMRerank\n",
        "\n",
        "compressor = RankLLMRerank(top_n=3, model=\"zephyr\")\n",
        "compression_retriever = ContextualCompressionRetriever(\n",
        "    base_compressor=compressor, base_retriever=retriever\n",
        ")"
      ],
      "metadata": {
        "id": "anZWi-eJL-V7"
      },
      "execution_count": null,
      "outputs": []
    },
    {
      "cell_type": "code",
      "source": [
        "compressed_docs = compression_retriever.invoke(query)\n",
        "pretty_print_docs(compressed_docs)"
      ],
      "metadata": {
        "id": "OB7tcfopONrd"
      },
      "execution_count": null,
      "outputs": []
    },
    {
      "cell_type": "markdown",
      "source": [
        "### MMR (maximal_marginal_relevance) Implementation"
      ],
      "metadata": {
        "id": "aDCYlnG-OgOP"
      }
    },
    {
      "cell_type": "code",
      "source": [
        "%pip install scikit-learn"
      ],
      "metadata": {
        "id": "X_wTQAjrWmVG"
      },
      "execution_count": null,
      "outputs": []
    },
    {
      "cell_type": "code",
      "source": [
        "import numpy as np\n",
        "import pandas as pd\n",
        "\n",
        "from sklearn.metrics.pairwise import cosine_similarity\n",
        "\n",
        "def maximal_marginal_relevance(sentence_vector, phrases, embedding_matrix, lambda_constant=0.5, threshold_terms=10):\n",
        "    \"\"\"\n",
        "    Return ranked phrases using MMR. Cosine similarity is used as similarity measure.\n",
        "    :param sentence_vector: Query vector\n",
        "    :param phrases: list of candidate phrases\n",
        "    :param embedding_matrix: matrix having index as phrases and values as vector\n",
        "    :param lambda_constant: 0.5 to balance diversity and accuracy. if lambda_constant is high, then higher accuracy. If lambda_constant is low then high diversity.\n",
        "    :param threshold_terms: number of terms to include in result set\n",
        "    :return: Ranked phrases with score\n",
        "    \"\"\"\n",
        "    # todo: Use cosine similarity matrix for lookup among phrases instead of making call everytime.\n",
        "    s = []\n",
        "    r = sorted(phrases, key=lambda x: x[1], reverse=True)\n",
        "    r = [i[0] for i in r]\n",
        "    while len(r) > 0:\n",
        "        score = 0\n",
        "        phrase_to_add = ''\n",
        "        for i in r:\n",
        "            first_part = cosine_similarity([sentence_vector], [embedding_matrix.loc[i]])[0][0]\n",
        "            second_part = 0\n",
        "            for j in s:\n",
        "                cos_sim = cosine_similarity([embedding_matrix.loc[i]], [embedding_matrix.loc[j[0]]])[0][0]\n",
        "                if cos_sim > second_part:\n",
        "                    second_part = cos_sim\n",
        "            equation_score = lambda_constant*(first_part)-(1-lambda_constant) * second_part\n",
        "            if equation_score > score:\n",
        "                score = equation_score\n",
        "                phrase_to_add = i\n",
        "        if phrase_to_add == '':\n",
        "            phrase_to_add = i\n",
        "        r.remove(phrase_to_add)\n",
        "        s.append((phrase_to_add, score))\n",
        "    return (s, s[:threshold_terms])[threshold_terms > len(s)]"
      ],
      "metadata": {
        "id": "pjPEIQLlOfjL"
      },
      "execution_count": null,
      "outputs": []
    },
    {
      "cell_type": "code",
      "source": [
        "query_embedding = cohere_client.embed([query]).embeddings[0]\n",
        "\n",
        "\n",
        "# Extract document contents and metadata\n",
        "documents = [(doc.page_content, doc.metadata['relevance_score']) for doc in compressed_docs]\n",
        "\n",
        "# Generate embeddings for the documents\n",
        "doc_embeddings = {}\n",
        "for idx, (content, _) in enumerate(documents):\n",
        "    embedding = cohere_client.embed([content]).embeddings[0]\n",
        "    doc_embeddings[idx] = embedding\n",
        "\n",
        "# Create an embedding matrix DataFrame\n",
        "embedding_matrix = pd.DataFrame.from_dict(doc_embeddings, orient='index')\n",
        "\n",
        "# Prepare phrases list for MMR\n",
        "phrases = [(str(idx), score) for idx, (_, score) in enumerate(documents)]\n",
        "\n",
        "# Apply MMR\n",
        "ranked_phrases = maximal_marginal_relevance(query_embedding, phrases, embedding_matrix)\n",
        "\n",
        "# Retrieve and print re-ranked documents\n",
        "reranked_docs = [list(doc_embeddings.keys())[int(phrase[0])] for phrase in ranked_phrases]\n",
        "\n",
        "for doc in reranked_docs:\n",
        "    print(doc.metadata)\n",
        "    print(\"\\n\\n\" + doc.page_content)\n",
        "    print(\"\\n\\n\" + \"-\" * 30 + \"\\n\\n\")\n",
        "Ex"
      ],
      "metadata": {
        "id": "CXxS3ECLPUip"
      },
      "execution_count": null,
      "outputs": []
    },
    {
      "cell_type": "markdown",
      "source": [
        "## LLM Prompt"
      ],
      "metadata": {
        "id": "tCy5XUj3Cyge"
      }
    },
    {
      "cell_type": "code",
      "source": [],
      "metadata": {
        "id": "cOmskIJsCxOb"
      },
      "execution_count": null,
      "outputs": []
    },
    {
      "cell_type": "code",
      "source": [
        "template = \"\"\"\n",
        "<|system|>>\n",
        "You are an AI Assistant that follows instructions extremely well. Based on the context below, answer the user's query.\n",
        "Please be truthful and give direct answers. Please tell 'I don't know' if user query is not in CONTEXT\n",
        "\n",
        "CONTEXT: {context}\n",
        "</s>\n",
        "<|user|>\n",
        "{query}\n",
        "</s>\n",
        "<|assistant|>\n",
        "\"\"\""
      ],
      "metadata": {
        "id": "0r8AkIok4L88"
      },
      "execution_count": 68,
      "outputs": []
    },
    {
      "cell_type": "code",
      "source": [
        "prompt = ChatPromptTemplate.from_template(template)"
      ],
      "metadata": {
        "id": "b4YMt_NA4-fe"
      },
      "execution_count": 69,
      "outputs": []
    },
    {
      "cell_type": "code",
      "source": [
        "output_parser = StrOutputParser()"
      ],
      "metadata": {
        "id": "bMTEv22d5L5c"
      },
      "execution_count": 70,
      "outputs": []
    },
    {
      "cell_type": "code",
      "source": [
        "chain = (\n",
        "    {\"context\": compression_retriever, \"query\": RunnablePassthrough()}\n",
        "    | prompt\n",
        "    | model\n",
        "    | output_parser\n",
        ")"
      ],
      "metadata": {
        "id": "niNnPjIC5NcA"
      },
      "execution_count": 71,
      "outputs": []
    },
    {
      "cell_type": "code",
      "source": [
        "query=\"Who is exempt from paying the registration fee required by this Article 12, and under what conditions?\""
      ],
      "metadata": {
        "id": "hvbFhrUA5Y4W"
      },
      "execution_count": 59,
      "outputs": []
    },
    {
      "cell_type": "code",
      "source": [
        "response = chain.invoke(query)"
      ],
      "metadata": {
        "id": "twphqVQq4XCH"
      },
      "execution_count": 72,
      "outputs": []
    },
    {
      "cell_type": "code",
      "source": [
        "print(response)"
      ],
      "metadata": {
        "colab": {
          "base_uri": "https://localhost:8080/"
        },
        "id": "0iTh-Q_P4YVz",
        "outputId": "617efb55-be8a-4f23-8518-5d5f4264a73a"
      },
      "execution_count": 81,
      "outputs": [
        {
          "output_type": "stream",
          "name": "stdout",
          "text": [
            "Human: \n",
            "<|system|>>\n",
            "You are an AI Assistant that follows instructions extremely well. Based on the context below, answer the user's query.\n",
            "Please be truthful and give direct answers. Please tell 'I don't know' if user query is not in CONTEXT\n",
            "\n",
            "CONTEXT: [Document(page_content='Revenue Code of 1986, as amended, as qualified by Sections 502, 503, 504, and 508 of the\\nInternal Revenue Code of 1986, as amended, shall be exempt from the registration fee under\\nthis Article 12, only so long as those exemptions continue to exist under state or federal law.\\n29SANEY CO\\n2024 MA 10 PM 1:29\\n(+) A person shall be exempt from paying the registration fee required by this\\nARTIENT OF ELEC\\nSection 855 if and to the extent that, and only so long as, federal or state law prohibits the', metadata={'relevance_score': 0.9988883}), Document(page_content='September 30, the registration fee shall be 75% of the annual fee; and for persons commencing\\nbusiness between October 1 and December 31, the registration fee shall be 50% of the annual fee.\\n(52) Notwithstanding any other provision of this Article 12, no person obtaining a\\nregistration certificate for a newly established business that qualifies for the minimum\\nregistration fee set forth in Section 855 of this Article shall be entitled to prorate the', metadata={'relevance_score': 0.9789956}), Document(page_content=\"Article 6, the Tax Collector shall determine the amount of the registration fee required based on the\\napplicant's estimated gross receipts under Article 12 A1 (Gross Receipts Tax Ordinance) for the\\nperiod covered by the registration certificate.\\n(ed) Fee for Persons Subject to Administrative Office Tax.\\n(1) Except as otherwise provided in this Section 855 and Section 856 of this\\nArticle 12, and Section 76.3 of Article 2 of this Business and Tax Regulations Code, the annual\", metadata={'relevance_score': 0.97608364})]\n",
            "</s>\n",
            "<|user|>\n",
            "Who is exempt from paying the registration fee required by this Article 12, and under what conditions?\n",
            "</s>\n",
            "<|assistant|>\n",
            "According to the given context, a person is exempt from paying the registration fee required by Article 12 if and to the extent that, and only so long as, federal or state law prohibits the payment of the fee. This exemption is specifically mentioned in Section 855 of the Revenue Code of 1986, as amended, as qualified by Sections 502, 503, 504, and 508 of the Internal Revenue Code of 1986, as amended. Additionally, under Article 12 A1 (Gross Receipts Tax Ordinance), the Tax Collector determines the amount of the registration fee based on the applicant's estimated gross receipts for the period covered by the registration certificate. However, the context does not provide any specific conditions or exceptions for this exemption.\n"
          ]
        }
      ]
    },
    {
      "cell_type": "code",
      "source": [
        "# prompt: how to promt this llm model\n",
        "\n",
        "# Create a prompt template\n",
        "prompt_template = \"\"\"\n",
        "<|system|>>\n",
        "You are an AI Assistant that follows instructions extremely well. Based on the context below, answer the user's query.\n",
        "Please be truthful and give direct answers. Please tell 'I don't know' if user query is not in CONTEXT\n",
        "\n",
        "CONTEXT: {context}\n",
        "</s>\n",
        "<|user|>\n",
        "{query}\n",
        "</s>\n",
        "<|assistant|>\n",
        "\"\"\"\n",
        "\n",
        "# Create a prompt object from the template\n",
        "prompt = ChatPromptTemplate.from_template(prompt_template)\n",
        "\n",
        "# Create an output parser to extract the answer from the model's response\n",
        "output_parser = StrOutputParser()\n",
        "\n",
        "# Create a chain that combines the prompt, the model, and the output parser\n",
        "chain = (\n",
        "    {\"context\": compression_retriever, \"query\": RunnablePassthrough()}\n",
        "    | prompt\n",
        "    | model\n",
        "    | output_parser\n",
        ")\n",
        "\n",
        "# Use the chain to invoke the model with a query\n",
        "query = \"Who is exempt from paying the registration fee required by this Article 12, and under what conditions?\"\n",
        "response = chain.invoke(query)\n",
        "\n",
        "# Print the model's response\n",
        "print(response)\n"
      ],
      "metadata": {
        "colab": {
          "base_uri": "https://localhost:8080/"
        },
        "id": "vSVYX-RurlQj",
        "outputId": "64edfabe-b0a7-4cbe-dc6d-a7cf0960bcff"
      },
      "execution_count": 91,
      "outputs": [
        {
          "output_type": "stream",
          "name": "stdout",
          "text": [
            "Human: \n",
            "<|system|>>\n",
            "You are an AI Assistant that follows instructions extremely well. Based on the context below, answer the user's query.\n",
            "Please be truthful and give direct answers. Please tell 'I don't know' if user query is not in CONTEXT\n",
            "\n",
            "CONTEXT: [Document(page_content='Revenue Code of 1986, as amended, as qualified by Sections 502, 503, 504, and 508 of the\\nInternal Revenue Code of 1986, as amended, shall be exempt from the registration fee under\\nthis Article 12, only so long as those exemptions continue to exist under state or federal law.\\n29SANEY CO\\n2024 MA 10 PM 1:29\\n(+) A person shall be exempt from paying the registration fee required by this\\nARTIENT OF ELEC\\nSection 855 if and to the extent that, and only so long as, federal or state law prohibits the', metadata={'relevance_score': 0.9988883}), Document(page_content='September 30, the registration fee shall be 75% of the annual fee; and for persons commencing\\nbusiness between October 1 and December 31, the registration fee shall be 50% of the annual fee.\\n(52) Notwithstanding any other provision of this Article 12, no person obtaining a\\nregistration certificate for a newly established business that qualifies for the minimum\\nregistration fee set forth in Section 855 of this Article shall be entitled to prorate the', metadata={'relevance_score': 0.9789956}), Document(page_content=\"Article 6, the Tax Collector shall determine the amount of the registration fee required based on the\\napplicant's estimated gross receipts under Article 12 A1 (Gross Receipts Tax Ordinance) for the\\nperiod covered by the registration certificate.\\n(ed) Fee for Persons Subject to Administrative Office Tax.\\n(1) Except as otherwise provided in this Section 855 and Section 856 of this\\nArticle 12, and Section 76.3 of Article 2 of this Business and Tax Regulations Code, the annual\", metadata={'relevance_score': 0.97608364})]\n",
            "</s>\n",
            "<|user|>\n",
            "Who is exempt from paying the registration fee required by this Article 12, and under what conditions?\n",
            "</s>\n",
            "<|assistant|>\n",
            "According to the given context, a person is exempt from paying the registration fee required by Article 12 if and to the extent that, and only so long as, federal or state law prohibits the payment of the fee. This exemption is specifically mentioned in Section 855 of the Revenue Code of 1986, as amended, as qualified by Sections 502, 503, 504, and 508 of the Internal Revenue Code of 1986, as amended. Additionally, under Article 12 A1 (Gross Receipts Tax Ordinance), the Tax Collector determines the amount of the registration fee based on the applicant's estimated gross receipts for the period covered by the registration certificate. However, the context does not provide any specific conditions or exceptions for this exemption.\n"
          ]
        }
      ]
    }
  ]
}